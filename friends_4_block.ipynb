{
 "cells": [
  {
   "cell_type": "code",
   "execution_count": 1,
   "id": "expected-reply",
   "metadata": {},
   "outputs": [],
   "source": [
    "%config Completer.use_jedi = False"
   ]
  },
  {
   "cell_type": "code",
   "execution_count": 23,
   "id": "continued-percentage",
   "metadata": {},
   "outputs": [],
   "source": [
    "m = 6\n",
    "n = 6"
   ]
  },
  {
   "cell_type": "code",
   "execution_count": 27,
   "id": "solar-pottery",
   "metadata": {},
   "outputs": [],
   "source": [
    "board = [\"TTTANT\", \"RRFACC\", \"RRRFCC\", \"TRRRAA\", \"TTMMMF\", \"TMMTTJ\"]"
   ]
  },
  {
   "cell_type": "code",
   "execution_count": 73,
   "id": "beginning-trick",
   "metadata": {},
   "outputs": [],
   "source": [
    "from copy import copy"
   ]
  },
  {
   "cell_type": "code",
   "execution_count": 78,
   "id": "involved-mathematics",
   "metadata": {},
   "outputs": [],
   "source": [
    "temp1 = board[1]\n",
    "temp2 = \"RRFACC\""
   ]
  },
  {
   "cell_type": "code",
   "execution_count": 82,
   "id": "needed-screw",
   "metadata": {},
   "outputs": [
    {
     "name": "stdout",
     "output_type": "stream",
     "text": [
      "TTTANT RRFACC\n",
      "RRFA## RRRFCC\n",
      "###FCC TRRRAA\n",
      "TRRRAA TTMMMF\n",
      "TTMMMF TMMTTJ\n"
     ]
    }
   ],
   "source": [
    "for i in range(m - 1):\n",
    "    front = board[i]\n",
    "    back = board[i+1]\n",
    "    new_front = \" \" * n\n",
    "    new_back = \" \" * n\n",
    "    for j in range(n - 1):\n",
    "        if front[j] == back[j] and front[j + 1] == back[j + 1] and front[j] == front[j + 1]:\n",
    "            new_front = front.replace(front[j], \"#\")\n",
    "            new_back = back.replace(back[j], \"#\")\n",
    "        \n",
    "    if new_front == \" \" * n:\n",
    "        new_front = front\n",
    "        print(new_front, back)\n",
    "    else:\n",
    "        print(new_front, back)"
   ]
  },
  {
   "cell_type": "code",
   "execution_count": null,
   "id": "published-sandwich",
   "metadata": {},
   "outputs": [],
   "source": [
    "value = 0\n",
    "while value = 0:\n",
    "    if value = 1:\n",
    "        break"
   ]
  }
 ],
 "metadata": {
  "kernelspec": {
   "display_name": "Python 3",
   "language": "python",
   "name": "python3"
  },
  "language_info": {
   "codemirror_mode": {
    "name": "ipython",
    "version": 3
   },
   "file_extension": ".py",
   "mimetype": "text/x-python",
   "name": "python",
   "nbconvert_exporter": "python",
   "pygments_lexer": "ipython3",
   "version": "3.8.2"
  }
 },
 "nbformat": 4,
 "nbformat_minor": 5
}
